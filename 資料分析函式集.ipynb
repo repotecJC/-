{
  "nbformat": 4,
  "nbformat_minor": 0,
  "metadata": {
    "colab": {
      "provenance": []
    },
    "kernelspec": {
      "name": "python3",
      "display_name": "Python 3"
    },
    "language_info": {
      "name": "python"
    }
  },
  "cells": [
    {
      "cell_type": "code",
      "execution_count": null,
      "metadata": {
        "id": "QwA7eJYYVxDv"
      },
      "outputs": [],
      "source": [
        "import pandas as pd\n",
        "import matplotlib.pyplot as plt\n",
        "import seaborn as sns\n",
        "from scipy import stats as st"
      ]
    },
    {
      "cell_type": "markdown",
      "source": [
        "#Quantity to Quantity"
      ],
      "metadata": {
        "id": "1TDHm4aVHVXx"
      }
    },
    {
      "cell_type": "markdown",
      "source": [
        "##Pearsonr"
      ],
      "metadata": {
        "id": "Nga2Z2SYOaOr"
      }
    },
    {
      "cell_type": "markdown",
      "source": [
        "###單一值比對"
      ],
      "metadata": {
        "id": "Ndf322Mbt1i0"
      }
    },
    {
      "cell_type": "code",
      "source": [
        "def pearson_one_to_mutiple(data,compare_list,aim_data):\n",
        "\n",
        "    from scipy import stats as st\n",
        "    import pandas as pd\n",
        "    \n",
        "    name=[]\n",
        "    correlation=[]\n",
        "    p_value=[]\n",
        "\n",
        "    for i in range (len(compare_list)) :\n",
        "        (c,pv) = st.pearsonr (data[aim_data],data[compare_list[i]])\n",
        "        \n",
        "        name.append(compare_list[i])\n",
        "        correlation.append(c)\n",
        "        p_value.append(pv)\n",
        "\n",
        "    pd.set_option('display.float_format', lambda x:'%.3f'%x) #自定義pandas\n",
        "    \n",
        "    result=pd.DataFrame(correlation,name,columns=['Correlation'])\n",
        "    result.insert(1,'p_value',p_value)\n",
        "    return result"
      ],
      "metadata": {
        "id": "GJgXd1AxV6ZZ"
      },
      "execution_count": null,
      "outputs": []
    },
    {
      "cell_type": "markdown",
      "source": [
        "###全部比對"
      ],
      "metadata": {
        "id": "MtO3lbkKt6Ok"
      }
    },
    {
      "cell_type": "code",
      "source": [
        "def pearson_mutiple(data,compare_list):\n",
        "\n",
        "    from scipy import stats as st\n",
        "    import pandas as pd\n",
        "    \n",
        "    name=[]\n",
        "    correlation=[]\n",
        "    p_value=[]\n",
        "\n",
        "    for i in range (len(compare_list)) :\n",
        "        for j in range(len(compare_list)):\n",
        "            (c,pv) = st.pearsonr (data[compare_list[i]],data[compare_list[j]])\n",
        "        \n",
        "        name.append(compare_list[i])\n",
        "        correlation.append(c)\n",
        "        p_value.append(pv)\n",
        "\n",
        "    pd.set_option('display.float_format', lambda x:'%.3f'%x) #自定義pandas\n",
        "    \n",
        "    result=pd.DataFrame(correlation,name,columns=['Correlation'])\n",
        "    result.insert(1,'p_value',p_value)\n",
        "    return result"
      ],
      "metadata": {
        "id": "yF9IuQG1YC1b"
      },
      "execution_count": null,
      "outputs": []
    },
    {
      "cell_type": "markdown",
      "source": [
        "#Category to Quantity"
      ],
      "metadata": {
        "id": "Bofi5gFZHeum"
      }
    },
    {
      "cell_type": "markdown",
      "source": [
        "##T-test(Two-Category)"
      ],
      "metadata": {
        "id": "-CyLBGLEOhb6"
      }
    },
    {
      "cell_type": "code",
      "source": [
        "def ttest_compare(data,compare_list,aim_data,category1,category2):\n",
        "\n",
        "    from scipy import stats as st\n",
        "    import pandas as pd\n",
        "    \n",
        "    name=[]\n",
        "    t_value=[]\n",
        "    p_value=[]\n",
        "\n",
        "    for i in range (len(compare_list)) :\n",
        "        (t,pv) = st.ttest_ind(data[compare_list[i]][data[aim_data]==category1],data[compare_list[i]][data[aim_data]==category2])\n",
        "        \n",
        "        name.append(compare_list[i])\n",
        "        t_value.append(t)\n",
        "        p_value.append(pv)\n",
        "\n",
        "    pd.set_option('display.float_format', lambda x:'%.2f'%x) #自定義pandas\n",
        "    \n",
        "    result=pd.DataFrame(t_value,name,columns=['t_value'])\n",
        "    result.insert(1,'p_value',p_value)\n",
        "    return result"
      ],
      "metadata": {
        "id": "g7aAYJPDOkv1"
      },
      "execution_count": null,
      "outputs": []
    },
    {
      "cell_type": "markdown",
      "source": [
        "##ANOVA(Multi-Category)"
      ],
      "metadata": {
        "id": "wkcmaacKcE6J"
      }
    },
    {
      "cell_type": "markdown",
      "source": [
        "###三變數"
      ],
      "metadata": {
        "id": "wzqQB9L9ZVfC"
      }
    },
    {
      "cell_type": "code",
      "source": [
        "def anova_compare_three(data,compare_list,aim_data,category1,category2,category3):\n",
        "\n",
        "    from scipy import stats as st\n",
        "    import pandas as pd\n",
        "    \n",
        "    name=[]\n",
        "    f_value=[]\n",
        "    p_value=[]\n",
        "\n",
        "    for i in range (len(compare_list)) :\n",
        "        (f,pv) = st.f_oneway(data[compare_list[i]][data[aim_data]==category1],data[compare_list[i]][data[aim_data]==category2],data[compare_list[i]][data[aim_data]==category3])\n",
        "        \n",
        "        name.append(compare_list[i])\n",
        "        f_value.append(f)\n",
        "        p_value.append(pv)\n",
        "\n",
        "    # pd.set_option('display.float_format', lambda x:'%.2f'%x) #自定義pandas\n",
        "    \n",
        "    result=pd.DataFrame(f_value,name,columns=['f_value'])\n",
        "    result.insert(1,'p_value',p_value)\n",
        "    return result"
      ],
      "metadata": {
        "id": "AMZPUa-4ZZxp"
      },
      "execution_count": null,
      "outputs": []
    },
    {
      "cell_type": "markdown",
      "source": [
        "###四變數"
      ],
      "metadata": {
        "id": "_Ox1YbJcZNMi"
      }
    },
    {
      "cell_type": "code",
      "source": [
        "def anova_compare_four(data,compare_list,aim_data,category1,category2,category3,category4):\n",
        "\n",
        "    from scipy import stats as st\n",
        "    import pandas as pd\n",
        "    \n",
        "    name=[]\n",
        "    f_value=[]\n",
        "    p_value=[]\n",
        "\n",
        "    for i in range (len(compare_list)) :\n",
        "        (f,pv) = st.f_oneway(data[compare_list[i]][data[aim_data]==category1,data[compare_list[i]][data[aim_data]==category2,data[compare_list[i]][data[aim_data]==category3,data[compare_list[i]][data[aim_data]==category4])\n",
        "        \n",
        "        name.append(compare_list[i])\n",
        "        f_value.append(f)\n",
        "        p_value.append(pv)\n",
        "\n",
        "    # pd.set_option('display.float_format', lambda x:'%.2f'%x) #自定義pandas\n",
        "    \n",
        "    result=pd.DataFrame(f_value,name,columns=['f_value'])\n",
        "    result.insert(1,'p_value',p_value)\n",
        "    return result"
      ],
      "metadata": {
        "id": "cKXGDAF5cIQl"
      },
      "execution_count": null,
      "outputs": []
    },
    {
      "cell_type": "markdown",
      "source": [
        "###五變數"
      ],
      "metadata": {
        "id": "oRBEnlIDZSty"
      }
    },
    {
      "cell_type": "code",
      "source": [
        "def anova_compare_five(data,compare_list,aim_data,category1,category2,category3,category4,category5):\n",
        "\n",
        "    from scipy import stats as st\n",
        "    import pandas as pd\n",
        "    \n",
        "    name=[]\n",
        "    f_value=[]\n",
        "    p_value=[]\n",
        "\n",
        "    for i in range (len(compare_list)) :\n",
        "        (f,pv) = st.f_oneway(data[compare_list[i]][data[aim_data]==category1],data[compare_list[i]][data[aim_data]==category2],data[compare_list[i]][data[aim_data]==category3],data[compare_list[i]][data[aim_data]==category4],data[compare_list[i]][data[aim_data]==category5])\n",
        "        \n",
        "        name.append(compare_list[i])\n",
        "        f_value.append(f)\n",
        "        p_value.append(pv)\n",
        "\n",
        "    # pd.set_option('display.float_format', lambda x:'%.2f'%x) #自定義pandas\n",
        "    \n",
        "    result=pd.DataFrame(f_value,name,columns=['f_value'])\n",
        "    result.insert(1,'p_value',p_value)\n",
        "    return result"
      ],
      "metadata": {
        "id": "cQBlx4UBZi4t"
      },
      "execution_count": null,
      "outputs": []
    },
    {
      "cell_type": "markdown",
      "source": [
        "###六變數"
      ],
      "metadata": {
        "id": "31lfF1tOKDlk"
      }
    },
    {
      "cell_type": "code",
      "source": [
        "def anova_compare_six(data,compare_list,aim_data,category1,category2,category3,category4,category5,category6):\n",
        "\n",
        "    from scipy import stats as st\n",
        "    import pandas as pd\n",
        "    \n",
        "    name=[]\n",
        "    f_value=[]\n",
        "    p_value=[]\n",
        "\n",
        "    for i in range (len(compare_list)) :\n",
        "        (f,pv) = st.f_oneway(data[compare_list[i]][data[aim_data]==category1],data[compare_list[i]][data[aim_data]==category2],data[compare_list[i]][data[aim_data]==category3],data[compare_list[i]][data[aim_data]==category4],data[compare_list[i]][data[aim_data]==category5],data[compare_list[i]][data[aim_data]==category6])\n",
        "        \n",
        "        name.append(compare_list[i])\n",
        "        f_value.append(f)\n",
        "        p_value.append(pv)\n",
        "\n",
        "    # pd.set_option('display.float_format', lambda x:'%.2f'%x) #自定義pandas\n",
        "    \n",
        "    result=pd.DataFrame(f_value,name,columns=['f_value'])\n",
        "    result.insert(1,'p_value',p_value)\n",
        "    return result"
      ],
      "metadata": {
        "id": "RBVYzK4mKDx1"
      },
      "execution_count": null,
      "outputs": []
    },
    {
      "cell_type": "markdown",
      "source": [
        "###七變數"
      ],
      "metadata": {
        "id": "bU1v3-JSJ6f0"
      }
    },
    {
      "cell_type": "code",
      "source": [
        "def anova_compare_seven(data,compare_list,aim_data,category1,category2,category3,category4,category5,category6,category7):\n",
        "\n",
        "    from scipy import stats as st\n",
        "    import pandas as pd\n",
        "    \n",
        "    name=[]\n",
        "    f_value=[]\n",
        "    p_value=[]\n",
        "\n",
        "    for i in range (len(compare_list)) :\n",
        "        (f,pv) = st.f_oneway(data[compare_list[i]][data[aim_data]==category1],data[compare_list[i]][data[aim_data]==category2],data[compare_list[i]][data[aim_data]==category3],data[compare_list[i]][data[aim_data]==category4],data[compare_list[i]][data[aim_data]==category5],data[compare_list[i]][data[aim_data]==category6],data[compare_list[i]][data[aim_data]==category7])\n",
        "        \n",
        "        name.append(compare_list[i])\n",
        "        f_value.append(f)\n",
        "        p_value.append(pv)\n",
        "\n",
        "    # pd.set_option('display.float_format', lambda x:'%.2f'%x) #自定義pandas\n",
        "    \n",
        "    result=pd.DataFrame(f_value,name,columns=['f_value'])\n",
        "    result.insert(1,'p_value',p_value)\n",
        "    return result"
      ],
      "metadata": {
        "id": "1IrbMM2QJ47D"
      },
      "execution_count": null,
      "outputs": []
    },
    {
      "cell_type": "markdown",
      "source": [
        "###十變數"
      ],
      "metadata": {
        "id": "AymLSJdwaOE6"
      }
    },
    {
      "cell_type": "code",
      "source": [
        "def anova_compare_ten(data,compare_list,aim_data,category1,category2,category3,category4,category5,category6,category7,category8,category9,category10):\n",
        "\n",
        "    from scipy import stats as st\n",
        "    import pandas as pd\n",
        "    \n",
        "    name=[]\n",
        "    f_value=[]\n",
        "    p_value=[]\n",
        "\n",
        "    for i in range (len(compare_list)) :\n",
        "        (f,pv) = st.f_oneway(data[compare_list[i]][data[aim_data]==category1],data[compare_list[i]][data[aim_data]==category2],data[compare_list[i]][data[aim_data]==category3],data[compare_list[i]][data[aim_data]==category4],data[compare_list[i]][data[aim_data]==category5],data[compare_list[i]][data[aim_data]==category6],data[compare_list[i]][data[aim_data]==category7],data[compare_list[i]][data[aim_data]==category8],data[compare_list[i]][data[aim_data]==category9],data[compare_list[i]][data[aim_data]==category10])\n",
        "        \n",
        "        name.append(compare_list[i])\n",
        "        f_value.append(f)\n",
        "        p_value.append(pv)\n",
        "\n",
        "    # pd.set_option('display.float_format', lambda x:'%.2f'%x) #自定義pandas\n",
        "    \n",
        "    result=pd.DataFrame(f_value,name,columns=['f_value'])\n",
        "    result.insert(1,'p_value',p_value)\n",
        "    return result"
      ],
      "metadata": {
        "id": "1n-okoOYaSFn"
      },
      "execution_count": null,
      "outputs": []
    },
    {
      "cell_type": "code",
      "source": [],
      "metadata": {
        "id": "sffeYUaqHuLk"
      },
      "execution_count": null,
      "outputs": []
    },
    {
      "cell_type": "markdown",
      "source": [
        "#Category to Category"
      ],
      "metadata": {
        "id": "lZYZr4uUHrCZ"
      }
    }
  ]
}